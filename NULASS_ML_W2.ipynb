{
  "nbformat": 4,
  "nbformat_minor": 0,
  "metadata": {
    "colab": {
      "provenance": [],
      "authorship_tag": "ABX9TyNyCYGvrAkdOOSXqhaaN85Z",
      "include_colab_link": true
    },
    "kernelspec": {
      "name": "python3",
      "display_name": "Python 3"
    },
    "language_info": {
      "name": "python"
    }
  },
  "cells": [
    {
      "cell_type": "markdown",
      "metadata": {
        "id": "view-in-github",
        "colab_type": "text"
      },
      "source": [
        "<a href=\"https://colab.research.google.com/github/Lasisi-Samson/NULASS-MACHINE-LEARNING-/blob/main/NULASS_ML_W2.ipynb\" target=\"_parent\"><img src=\"https://colab.research.google.com/assets/colab-badge.svg\" alt=\"Open In Colab\"/></a>"
      ]
    },
    {
      "cell_type": "markdown",
      "source": [
        "# **SIMPLE INTEREST CALCULATOR**"
      ],
      "metadata": {
        "id": "DGveNic4LChw"
      }
    },
    {
      "cell_type": "code",
      "execution_count": null,
      "metadata": {
        "id": "jBjtm3KJG6EC"
      },
      "outputs": [],
      "source": [
        "Principal = eval(input('Enter the Value for Principal: '))\n",
        "Rate = eval(input('Enter the Value for Rate: '))\n",
        "Time = eval(input('Enter the Value for Time: '))\n",
        "SI = Principal * Rate * Time /100\n",
        "print('Simple Interest is: ', SI)"
      ]
    },
    {
      "cell_type": "markdown",
      "source": [
        "# **TIME DISPLAYING PROGRAM**"
      ],
      "metadata": {
        "id": "XNwOQRJyLLbf"
      }
    },
    {
      "cell_type": "code",
      "source": [
        "import time\n",
        "current_time = time.time()\n",
        "current_time = int(current_time)\n",
        "print (current_time)\n",
        "\"\"\"Calculating for Seconds\"\"\"\n",
        "Current_seconds = current_time % 60\n",
        "print(Current_seconds)\n",
        "current_time = current_time // 60\n",
        "print (current_time)\n",
        "\"\"\"Calculating for Minutes\"\"\"\n",
        "Current_minutes = current_time % 60\n",
        "current_time = current_time // 60\n",
        "print (current_time)\n",
        "\"\"\"Calculating for Hours\"\"\"\n",
        "Current_hours = current_time % 24\n",
        "Current_hours += 1\n",
        "print('Current Time is: ', Current_hours, ':', Current_minutes, ':', Current_seconds)\n"
      ],
      "metadata": {
        "colab": {
          "base_uri": "https://localhost:8080/"
        },
        "id": "VItHTIGILezr",
        "outputId": "8efa379a-3670-4178-df66-b5cd96e3bd9b"
      },
      "execution_count": null,
      "outputs": [
        {
          "output_type": "stream",
          "name": "stdout",
          "text": [
            "1758829488\n",
            "48\n",
            "29313824\n",
            "488563\n",
            "Current Time is:  20 : 44 : 48\n"
          ]
        }
      ]
    },
    {
      "cell_type": "markdown",
      "source": [
        "(Convert Celsius to Fahrenheit) Write a program that reads a Celsius degree from\n",
        "the console and converts it to Fahrenheit and displays the result. The formula for\n",
        "the conversion is as follows:\n",
        "fahrenheit = (9 / 5) * celsius + 32"
      ],
      "metadata": {
        "id": "mz4jM_4QWOl4"
      }
    },
    {
      "cell_type": "code",
      "source": [
        "Celcius = eval(input('Enter the Value for Celcius: '))\n",
        "Fahrenheit = (9 / 5) * Celcius + 32\n",
        "print('Fahrenheit is: ', Fahrenheit)"
      ],
      "metadata": {
        "colab": {
          "base_uri": "https://localhost:8080/"
        },
        "id": "1900pEg1WOLd",
        "outputId": "eec02627-403e-41a3-d919-6fb48721b256"
      },
      "execution_count": null,
      "outputs": [
        {
          "output_type": "stream",
          "name": "stdout",
          "text": [
            "Enter the Value for Celcius: 92\n",
            "Fahrenheit is:  197.6\n"
          ]
        }
      ]
    },
    {
      "cell_type": "markdown",
      "source": [
        "(Convert feet into meters) Write a program that reads a number in feet, converts it\n",
        "to meters, and displays the result. One foot is 0.305 meters. Here is a sample run:"
      ],
      "metadata": {
        "id": "HhzTJbE8XojB"
      }
    },
    {
      "cell_type": "code",
      "source": [
        "Feet = eval(input('Enter the Value for Feet: '))\n",
        "Meters = Feet * 0.305\n",
        "print('Meters is: ', Meters)\n"
      ],
      "metadata": {
        "colab": {
          "base_uri": "https://localhost:8080/"
        },
        "id": "40nCH_o3XqeS",
        "outputId": "474d3c74-72fd-43d5-8fb9-366baf5567c3"
      },
      "execution_count": null,
      "outputs": [
        {
          "output_type": "stream",
          "name": "stdout",
          "text": [
            "Enter the Value for Feet: 900\n",
            "Meters is:  274.5\n"
          ]
        }
      ]
    },
    {
      "cell_type": "code",
      "source": [],
      "metadata": {
        "id": "uewhUIkylBtB"
      },
      "execution_count": null,
      "outputs": []
    }
  ]
}